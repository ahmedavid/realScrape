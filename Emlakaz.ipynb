{
 "cells": [
  {
   "cell_type": "code",
   "execution_count": 1,
   "id": "419e6dce",
   "metadata": {},
   "outputs": [],
   "source": [
    "import csv\n",
    "import json\n",
    "from datetime import datetime\n",
    "import requests\n",
    "from bs4 import BeautifulSoup\n",
    "import re\n",
    "from concurrent.futures import ThreadPoolExecutor,as_completed"
   ]
  },
  {
   "cell_type": "code",
   "execution_count": 2,
   "id": "3c03df3b",
   "metadata": {},
   "outputs": [],
   "source": [
    "base_page_url = \"https://emlak.az/elanlar/?ann_type=1&tip[]=1&sort_type=0&page=\""
   ]
  },
  {
   "cell_type": "code",
   "execution_count": 49,
   "id": "b2fe82e3",
   "metadata": {},
   "outputs": [],
   "source": [
    "def scrapePageUrl(base_page_url,page):\n",
    "    url = base_page_url+str(page)\n",
    "    print(\"Getting :\", url)\n",
    "    links = []\n",
    "    try:\n",
    "        response = requests.get(url)\n",
    "        soup = BeautifulSoup(response.text,\"html.parser\")\n",
    "        ticket_list = soup.select_one(\".ticket-list\").select(\".ticket\")\n",
    "        for ticket in ticket_list:\n",
    "            a = ticket.find(\"a\")\n",
    "            links.append(a['href'])\n",
    "    except BaseException as error:\n",
    "        print(error)\n",
    "    \n",
    "    return links"
   ]
  },
  {
   "cell_type": "code",
   "execution_count": 63,
   "id": "72b4e5ee",
   "metadata": {
    "scrolled": true
   },
   "outputs": [],
   "source": [
    "# all_links = []\n",
    "\n",
    "# for page in range(1,239):\n",
    "#     links = scrapePageUrl(base_page_url,page)\n",
    "#     all_links.extend(links)\n",
    "    \n",
    "# print(len(all_links))"
   ]
  },
  {
   "cell_type": "code",
   "execution_count": 56,
   "id": "d4759488",
   "metadata": {},
   "outputs": [
    {
     "name": "stdout",
     "output_type": "stream",
     "text": [
      "/861448-satilir-2-otaqli-108-m2-yeni-tikili-caspian-plaza.html\n",
      "/857941-satilir-3-otaqli-110-m2-yeni-tikili-ehmedli.html\n"
     ]
    }
   ],
   "source": [
    "print(all_links[1])\n",
    "print(all_links[-1])"
   ]
  },
  {
   "cell_type": "code",
   "execution_count": 62,
   "id": "0e90b080",
   "metadata": {},
   "outputs": [],
   "source": [
    "# with open(\"yeni_tikili_857941_861448.txt\",\"w\") as f:\n",
    "#     for link in all_links:\n",
    "#         f.write(f\"{link}\\n\")"
   ]
  },
  {
   "cell_type": "code",
   "execution_count": 101,
   "id": "25943fa4",
   "metadata": {},
   "outputs": [],
   "source": [
    "base_url = \"https://emlak.az/\"\n",
    "# url = \"868080\"\n",
    "url = \"860001\""
   ]
  },
  {
   "cell_type": "code",
   "execution_count": 102,
   "id": "a6263f52",
   "metadata": {},
   "outputs": [
    {
     "name": "stdout",
     "output_type": "stream",
     "text": [
      "'Yerləşdiyi mərtəbə'\n"
     ]
    }
   ],
   "source": [
    "def parseParams(parameters):\n",
    "    params = {}\n",
    "    for param in parameters:\n",
    "        if len(param) == 1:\n",
    "            continue\n",
    "        res = re.search(r\"<dd><span class=\\\"label\\\">(.+)<\\/span>(.+)<\\/dd>\",str(param))\n",
    "        params[res.group(1)] = res.group(2)\n",
    "        \n",
    "    return params\n",
    "\n",
    "\n",
    "def scrapeProperty(base_url,uri):\n",
    "    item = {\n",
    "        \"item_id\": int(uri.split(\"-\")[0])\n",
    "    }\n",
    "    try:\n",
    "        url = base_url + uri + \"-.html\"\n",
    "        response = requests.get(url)\n",
    "        soup = BeautifulSoup(response.text,\"html.parser\")\n",
    "\n",
    "        title = soup.select_one(\".panel > h1.title\").getText()\n",
    "        item[\"title\"] = title\n",
    "        item[\"isRent\"] = title[0] != \"S\"\n",
    "        item[\"date\"] = soup.select_one(\".box-panel > .date > strong\").getText()\n",
    "        item[\"price\"] = int(\"\".join(soup.select_one(\".left-bar > .price > .m\").getText().split(\" \")))\n",
    "        item[\"address\"] = soup.select_one(\".map-address > h4\").getText().split(\": \")[1]\n",
    "        item[\"phone\"] = soup.select_one(\".silver-box > .phone\").getText()\n",
    "        \n",
    "        # coords (lat,lng)\n",
    "        coords = soup.select_one(\"#google_map\")[\"value\"].strip(\"()\").split(\", \")\n",
    "        item[\"lat\"] = float(coords[0]) \n",
    "        item[\"lng\"] = float(coords[1]) \n",
    "        \n",
    "        # params\n",
    "        params = parseParams(soup.select_one(\".technical-characteristics\"))\n",
    "        item[\"type\"] = params[\"Əmlakın növü\"]\n",
    "        item[\"area\"] = int(params[\"Sahə\"].split(\" \")[0])\n",
    "        item[\"rooms\"] = int(params[\"Otaqların sayı\"])\n",
    "        item[\"floor\"] = int(params[\"Yerləşdiyi mərtəbə\"])\n",
    "        item[\"floors\"] = int(params[\"Mərtəbə sayı\"])\n",
    "        item[\"renovation\"] = params[\"Təmiri\"]\n",
    "        item[\"document\"] = params[\"Sənədin tipi\"]\n",
    "        \n",
    "        item[\"description\"] = soup.select_one(\".desc > p\").getText()\n",
    "        return item\n",
    "    except BaseException as error:\n",
    "        print(error)\n",
    "\n",
    "item = scrapeProperty(base_url,url)\n",
    "# print(json.dumps(item,indent=2,ensure_ascii=False))\n",
    "item"
   ]
  },
  {
   "cell_type": "code",
   "execution_count": null,
   "id": "88d79e10",
   "metadata": {},
   "outputs": [],
   "source": []
  },
  {
   "cell_type": "code",
   "execution_count": 103,
   "id": "9aa2d2e9",
   "metadata": {},
   "outputs": [],
   "source": [
    "obj= {\n",
    "    \"a\" :1,\n",
    "    \"b\": 2\n",
    "}"
   ]
  },
  {
   "cell_type": "code",
   "execution_count": 109,
   "id": "4b890105",
   "metadata": {},
   "outputs": [
    {
     "data": {
      "text/plain": [
       "dict_keys(['a', 'b'])"
      ]
     },
     "execution_count": 109,
     "metadata": {},
     "output_type": "execute_result"
    }
   ],
   "source": [
    "obj.keys()"
   ]
  },
  {
   "cell_type": "code",
   "execution_count": 111,
   "id": "a9137f3d",
   "metadata": {},
   "outputs": [
    {
     "name": "stdout",
     "output_type": "stream",
     "text": [
      "error\n"
     ]
    }
   ],
   "source": [
    "print(\"a\" if \"c\" in obj.keys() else \"error\")"
   ]
  },
  {
   "cell_type": "code",
   "execution_count": null,
   "id": "b1161b96",
   "metadata": {},
   "outputs": [],
   "source": []
  }
 ],
 "metadata": {
  "kernelspec": {
   "display_name": "Python 3 (ipykernel)",
   "language": "python",
   "name": "python3"
  },
  "language_info": {
   "codemirror_mode": {
    "name": "ipython",
    "version": 3
   },
   "file_extension": ".py",
   "mimetype": "text/x-python",
   "name": "python",
   "nbconvert_exporter": "python",
   "pygments_lexer": "ipython3",
   "version": "3.8.0"
  }
 },
 "nbformat": 4,
 "nbformat_minor": 5
}
