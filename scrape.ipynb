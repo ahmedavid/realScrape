{
 "cells": [
  {
   "cell_type": "code",
   "execution_count": 1,
   "id": "21e15d2d",
   "metadata": {},
   "outputs": [],
   "source": [
    "import csv\n",
    "from datetime import datetime\n",
    "import requests\n",
    "from bs4 import BeautifulSoup\n",
    "import re\n",
    "from concurrent.futures import ThreadPoolExecutor,as_completed"
   ]
  },
  {
   "cell_type": "code",
   "execution_count": 2,
   "id": "99d24aea",
   "metadata": {},
   "outputs": [],
   "source": [
    "base_url = \"https://bina.az/items/\""
   ]
  },
  {
   "cell_type": "code",
   "execution_count": 18,
   "id": "9648a53b",
   "metadata": {
    "scrolled": true
   },
   "outputs": [
    {
     "data": {
      "text/plain": [
       "6"
      ]
     },
     "execution_count": 18,
     "metadata": {},
     "output_type": "execute_result"
    }
   ],
   "source": [
    "datetime.now().day"
   ]
  },
  {
   "cell_type": "code",
   "execution_count": 17,
   "id": "aca22639",
   "metadata": {},
   "outputs": [],
   "source": [
    "month_map = {\n",
    "    1: \"Yanvar\",\n",
    "    2: \"Fevral\",\n",
    "    3: \"Mart\",\n",
    "    4: \"Aprel\",\n",
    "    5: \"May\",\n",
    "    6: \"İyun\",\n",
    "    7: \"İyul\",\n",
    "    8: \"Avqust\",\n",
    "    9: \"Sentyabr\",\n",
    "    10: \"Oktyabr\",\n",
    "    11: \"Noyabr\",\n",
    "    12: \"Dekabr\",\n",
    "}"
   ]
  },
  {
   "cell_type": "code",
   "execution_count": 41,
   "id": "1c99854e",
   "metadata": {},
   "outputs": [
    {
     "data": {
      "text/plain": [
       "['06', 'Avqust', '2022']"
      ]
     },
     "execution_count": 41,
     "metadata": {},
     "output_type": "execute_result"
    }
   ],
   "source": [
    "today_arr = [\n",
    "    str(f\"{datetime.now().day:02}\"),\n",
    "    str(month_map[datetime.now().month]),\n",
    "    str(datetime.now().year)\n",
    "]\n",
    "\n",
    "today_arr"
   ]
  },
  {
   "cell_type": "code",
   "execution_count": 26,
   "id": "a82987cb",
   "metadata": {},
   "outputs": [],
   "source": [
    "def parsePrice(priceStr):\n",
    "    priceArr = priceStr.split(\" \")\n",
    "    return int(\"\".join(priceArr))\n",
    "\n",
    "def parseParams(parameters):\n",
    "    params = {}\n",
    "    for param in parameters.children:\n",
    "        res = re.search(r\"<tr><td>(.+)<\\/td><td>(.+)<\\/td><\\/tr>\",str(param))\n",
    "        params[res.group(1)] = res.group(2)\n",
    "        \n",
    "    return params\n",
    "\n",
    "def scrapeUrl(base_url,item_id):\n",
    "    print(base_url,item_id)\n",
    "    item = {\n",
    "        \"id\": item_id\n",
    "    }\n",
    "    url = base_url + str(item_id)\n",
    "    try:\n",
    "        response = requests.get(url)\n",
    "        soup = BeautifulSoup(response.text, 'html.parser')\n",
    "        item_page = soup.select_one(\".price-val\")\n",
    "        if(item_page is None):\n",
    "            raise ValueError(\"Item deleted: \"+str(item_id))\n",
    "            return None\n",
    "        coords = soup.select_one(\"#item_map\")\n",
    "        item[\"lng\"] = coords[\"data-lng\"]\n",
    "        item[\"lat\"] = coords[\"data-lat\"]\n",
    "        item[\"price\"] = parsePrice(item_page.getText())\n",
    "        item[\"isRent\"] = True if soup.select_one(\".price_header > .price > p > .price-per\") else False\n",
    "        item[\"title\"] = soup.select_one(\".services-container > h1\").getText()\n",
    "        item[\"address\"] = soup.select_one(\".map_address\").text[7:]\n",
    "        item[\"parameters\"] = parseParams(soup.select_one(\".parameters\"))\n",
    "        item[\"description\"] = soup.select_one(\"article\").getText()\n",
    "        raw_date_arr = soup.select_one(\".item_info\").select_one(\":last-child\").get_text().split(\":\")[1].strip().split(\" \")\n",
    "        item[\"date\"] = \" \".join(raw_date_arr) if len(raw_date_arr) == 3 else \" \".join(today_arr)\n",
    "        \n",
    "        return item\n",
    "    except BaseException as error:\n",
    "        print('An exception occurred: {}'.format(error))"
   ]
  },
  {
   "cell_type": "code",
   "execution_count": 42,
   "id": "713db0e0",
   "metadata": {},
   "outputs": [
    {
     "name": "stdout",
     "output_type": "stream",
     "text": [
      "https://bina.az/items/ 2927719\n",
      "{'id': 2927719, 'lng': '49.94522094726562', 'lat': '40.56604622690851', 'price': 14000, 'isRent': False, 'title': 'Satılır torpaq 4 sot, Nardaran q.', 'address': 'Bakı şəhəri, Ləhic bağları massivi dalan 26', 'parameters': {'Kateqoriya': 'Torpaq', 'Sahə': '4 sot', 'Kupça': 'var'}, 'description': 'Tecili son qiymetdir kupcali deniz qumlu kvadrat duz torpaq.', 'date': '06 Avqust 2022'}\n"
     ]
    },
    {
     "data": {
      "text/plain": [
       "0"
      ]
     },
     "execution_count": 42,
     "metadata": {},
     "output_type": "execute_result"
    }
   ],
   "source": [
    "res = scrapeUrl(base_url,2927719)\n",
    "# res = scrapeUrl(base_url,2000000)\n",
    "\n",
    "print(res)\n",
    "\n",
    "int()"
   ]
  },
  {
   "cell_type": "code",
   "execution_count": 37,
   "id": "dce7a816",
   "metadata": {},
   "outputs": [
    {
     "name": "stdout",
     "output_type": "stream",
     "text": [
      "06\n"
     ]
    }
   ],
   "source": [
    "num = 6\n",
    "\n",
    "print(f'{num:02}')"
   ]
  },
  {
   "cell_type": "code",
   "execution_count": 4,
   "id": "724260ef",
   "metadata": {},
   "outputs": [],
   "source": [
    "def process_batch(fn,start,batch_size):\n",
    "    results = []\n",
    "    with ThreadPoolExecutor(max_workers=4) as executor:\n",
    "        futures = {executor.submit(fn,base_url,x) : x for x in range(start,start+batch_size)}\n",
    "\n",
    "        for future in as_completed(futures):\n",
    "            res = future.result()\n",
    "            results.append(res)\n",
    "        return results"
   ]
  },
  {
   "cell_type": "code",
   "execution_count": 5,
   "id": "e33b6dc6",
   "metadata": {},
   "outputs": [],
   "source": [
    "\n",
    "\n",
    "def start():\n"
   ]
  },
  {
   "cell_type": "code",
   "execution_count": 6,
   "id": "04daadef",
   "metadata": {},
   "outputs": [
    {
     "name": "stdout",
     "output_type": "stream",
     "text": [
      "https://bina.az/items/ 2000000\n",
      "https://bina.az/items/ 2000001\n",
      "https://bina.az/items/ 2000002\n",
      "https://bina.az/items/ 2000003\n",
      "https://bina.az/items/ 2000004\n",
      "https://bina.az/items/ 2000005\n",
      "https://bina.az/items/ 2000006\n",
      "https://bina.az/items/ 2000007\n",
      "An exception occurred: Item deleted: 2000007\n",
      "https://bina.az/items/ 2000008\n",
      "https://bina.az/items/ 2000009\n",
      "https://bina.az/items/ 2000010\n",
      "https://bina.az/items/ 2000011\n",
      "https://bina.az/items/ 2000012\n",
      "https://bina.az/items/ 2000013\n",
      "https://bina.az/items/ 2000014\n",
      "https://bina.az/items/ 2000015\n",
      "https://bina.az/items/ 2000016\n",
      "An exception occurred: Item deleted: 2000014\n",
      "https://bina.az/items/ 2000017\n",
      "https://bina.az/items/ 2000018\n",
      "An exception occurred: Item deleted: 2000017\n",
      "https://bina.az/items/ 2000019\n",
      "An exception occurred: Item deleted: 2000018\n",
      "https://bina.az/items/ 2000020\n",
      "https://bina.az/items/ 2000021\n",
      "https://bina.az/items/ 2000022\n",
      "https://bina.az/items/ 2000023\n",
      "https://bina.az/items/ 2000024\n",
      "An exception occurred: Item deleted: 2000022\n",
      "An exception occurred: Item deleted: 2000024\n",
      "https://bina.az/items/ 2000025\n",
      "https://bina.az/items/ 2000026\n",
      "https://bina.az/items/ 2000027\n",
      "https://bina.az/items/ 2000028\n",
      "https://bina.az/items/ 2000029\n",
      "https://bina.az/items/ 2000030\n",
      "https://bina.az/items/ 2000031\n",
      "https://bina.az/items/ 2000032\n",
      "https://bina.az/items/ 2000033\n",
      "https://bina.az/items/ 2000034\n",
      "https://bina.az/items/ 2000035\n",
      "https://bina.az/items/ 2000036\n",
      "https://bina.az/items/ 2000037\n",
      "https://bina.az/items/ 2000038\n",
      "https://bina.az/items/ 2000039\n",
      "https://bina.az/items/ 2000040\n",
      "https://bina.az/items/ 2000041\n",
      "https://bina.az/items/ 2000042\n",
      "An exception occurred: Item deleted: 2000040\n",
      "https://bina.az/items/ 2000043\n",
      "https://bina.az/items/ 2000044\n",
      "An exception occurred: Item deleted: 2000044\n",
      "https://bina.az/items/ 2000045\n",
      "https://bina.az/items/ 2000046\n",
      "https://bina.az/items/ 2000047\n",
      "https://bina.az/items/ 2000048\n",
      "https://bina.az/items/ 2000049\n",
      "https://bina.az/items/ 2000050\n",
      "https://bina.az/items/ 2000051\n",
      "https://bina.az/items/ 2000052\n",
      "https://bina.az/items/ 2000053\n",
      "An exception occurred: Item deleted: 2000051\n",
      "https://bina.az/items/ 2000054\n",
      "https://bina.az/items/ 2000055\n",
      "An exception occurred: Item deleted: 2000055\n",
      "https://bina.az/items/ 2000056\n",
      "https://bina.az/items/ 2000057\n",
      "https://bina.az/items/ 2000058\n",
      "https://bina.az/items/ 2000059\n",
      "An exception occurred: Item deleted: 2000058\n",
      "https://bina.az/items/ 2000060\n",
      "An exception occurred: Item deleted: 2000060\n",
      "https://bina.az/items/ 2000061\n",
      "https://bina.az/items/ 2000062\n",
      "https://bina.az/items/ 2000063\n",
      "https://bina.az/items/ 2000064\n",
      "An exception occurred: Item deleted: 2000063\n",
      "https://bina.az/items/ 2000065\n",
      "https://bina.az/items/ 2000066\n",
      "https://bina.az/items/ 2000067\n",
      "https://bina.az/items/ 2000068\n",
      "https://bina.az/items/ 2000069\n",
      "https://bina.az/items/ 2000070\n",
      "https://bina.az/items/ 2000071\n",
      "https://bina.az/items/ 2000072\n",
      "https://bina.az/items/ 2000073\n",
      "https://bina.az/items/ 2000074\n",
      "An exception occurred: Item deleted: 2000074\n",
      "https://bina.az/items/ 2000075\n",
      "https://bina.az/items/ 2000076\n",
      "https://bina.az/items/ 2000077\n",
      "https://bina.az/items/ 2000078\n",
      "An exception occurred: Item deleted: 2000077\n",
      "https://bina.az/items/ 2000079\n",
      "https://bina.az/items/ 2000080\n",
      "An exception occurred: Item deleted: 2000079\n",
      "https://bina.az/items/ 2000081\n",
      "https://bina.az/items/ 2000082\n",
      "https://bina.az/items/ 2000083\n",
      "An exception occurred: Item deleted: 2000081\n",
      "https://bina.az/items/ 2000084\n",
      "https://bina.az/items/ 2000085\n",
      "An exception occurred: Item deleted: 2000083\n",
      "https://bina.az/items/ 2000086\n",
      "https://bina.az/items/ 2000087\n",
      "https://bina.az/items/ 2000088\n",
      "https://bina.az/items/ 2000089\n",
      "https://bina.az/items/ 2000090\n",
      "An exception occurred: Item deleted: 2000088\n",
      "https://bina.az/items/ 2000091\n",
      "https://bina.az/items/ 2000092\n",
      "An exception occurred: Item deleted: 2000090\n",
      "https://bina.az/items/ 2000093\n",
      "https://bina.az/items/ 2000094\n",
      "An exception occurred: Item deleted: 2000092\n",
      "https://bina.az/items/ 2000095\n",
      "https://bina.az/items/ 2000096\n",
      "https://bina.az/items/ 2000097\n",
      "https://bina.az/items/ 2000098\n",
      "https://bina.az/items/ 2000099\n"
     ]
    }
   ],
   "source": [
    "start()"
   ]
  },
  {
   "cell_type": "code",
   "execution_count": 253,
   "id": "acadb1aa",
   "metadata": {},
   "outputs": [],
   "source": [
    "# print(json.dumps(prt,indent=2,ensure_ascii=False))\n"
   ]
  },
  {
   "cell_type": "code",
   "execution_count": 251,
   "id": "5da0b2be",
   "metadata": {},
   "outputs": [],
   "source": [
    "# import json\n",
    "\n",
    "# def start():\n",
    "#     data = []\n",
    "#     with open(\"scrape_log.csv\") as f:\n",
    "#         line = f.readlines()\n",
    "#         batch = 100\n",
    "#         batchLabel = batch\n",
    "#         start = int(line[-1].split(\",\")[0]) + 1\n",
    "#         startLabel = start\n",
    "        \n",
    "#         while batch >= 0:\n",
    "#             print(\"Scraping:\",start,\" \", batch)\n",
    "#             res = scrapeUrl(base_url,start)\n",
    "#             if res:\n",
    "#                 data.append(res)\n",
    "#             batch -= 1\n",
    "#             start += 1\n",
    "        \n",
    "#         with open(f\"{startLabel}-{startLabel+batchLabel}-result.json\",\"a\",encoding=\"utf-8\") as json_file:\n",
    "#             json.dump(data,json_file,ensure_ascii=False)\n",
    "        \n",
    "        "
   ]
  },
  {
   "cell_type": "code",
   "execution_count": 2,
   "id": "5479658b",
   "metadata": {},
   "outputs": [
    {
     "name": "stdout",
     "output_type": "stream",
     "text": [
      "754\n"
     ]
    }
   ],
   "source": [
    "import json\n",
    "with open(\"2000000-2001000-result.json\",encoding=\"utf-8\") as f:\n",
    "    res = json.load(f)\n",
    "    print(len(res))"
   ]
  },
  {
   "cell_type": "code",
   "execution_count": null,
   "id": "3e423a25",
   "metadata": {},
   "outputs": [],
   "source": []
  }
 ],
 "metadata": {
  "kernelspec": {
   "display_name": "Python 3 (ipykernel)",
   "language": "python",
   "name": "python3"
  },
  "language_info": {
   "codemirror_mode": {
    "name": "ipython",
    "version": 3
   },
   "file_extension": ".py",
   "mimetype": "text/x-python",
   "name": "python",
   "nbconvert_exporter": "python",
   "pygments_lexer": "ipython3",
   "version": "3.8.0"
  }
 },
 "nbformat": 4,
 "nbformat_minor": 5
}
