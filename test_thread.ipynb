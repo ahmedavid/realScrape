{
 "cells": [
  {
   "cell_type": "code",
   "execution_count": 1,
   "id": "20684a86",
   "metadata": {},
   "outputs": [],
   "source": [
    "from concurrent.futures import ThreadPoolExecutor,as_completed\n",
    "import time\n",
    "import random"
   ]
  },
  {
   "cell_type": "code",
   "execution_count": 9,
   "id": "a6b6abab",
   "metadata": {},
   "outputs": [],
   "source": [
    "def fn2():\n",
    "    return 0\n",
    "\n",
    "def fn(num):\n",
    "    fn2()\n",
    "    time.sleep(random.randint(1,2))\n",
    "    return \"Thread: \" + str(num)\n",
    "\n"
   ]
  },
  {
   "cell_type": "code",
   "execution_count": 11,
   "id": "dfedd1cc",
   "metadata": {},
   "outputs": [],
   "source": [
    "def process_batch(start,batch_size):\n",
    "    results = []\n",
    "    with ThreadPoolExecutor(max_workers=80) as executor:\n",
    "        futures = {executor.submit(fn,x) : x for x in range(start,start+batch_size)}\n",
    "\n",
    "        for future in as_completed(futures):\n",
    "            res = future.result()\n",
    "            results.append(res)\n",
    "        return results"
   ]
  },
  {
   "cell_type": "code",
   "execution_count": 12,
   "id": "d8fbeef0",
   "metadata": {},
   "outputs": [
    {
     "name": "stdout",
     "output_type": "stream",
     "text": [
      "250\n",
      "250\n",
      "250\n",
      "250\n",
      "CPU times: total: 93.8 ms\n",
      "Wall time: 24.2 s\n"
     ]
    }
   ],
   "source": [
    "%%time\n",
    "for start in range(2000000,2001000,250):\n",
    "    print(len(process_batch(start,250)))"
   ]
  },
  {
   "cell_type": "code",
   "execution_count": 14,
   "id": "8bfa5cab",
   "metadata": {},
   "outputs": [
    {
     "data": {
      "text/plain": [
       "[1, 2, 3, 4, 5, 6]"
      ]
     },
     "execution_count": 14,
     "metadata": {},
     "output_type": "execute_result"
    }
   ],
   "source": [
    "all_results = [1,2,3]\n",
    "batch_results = [4,5,6]\n",
    "\n",
    "all_results.extend(batch_results)\n",
    "\n",
    "all_results"
   ]
  },
  {
   "cell_type": "code",
   "execution_count": null,
   "id": "acb648ae",
   "metadata": {},
   "outputs": [],
   "source": []
  }
 ],
 "metadata": {
  "kernelspec": {
   "display_name": "Python 3 (ipykernel)",
   "language": "python",
   "name": "python3"
  },
  "language_info": {
   "codemirror_mode": {
    "name": "ipython",
    "version": 3
   },
   "file_extension": ".py",
   "mimetype": "text/x-python",
   "name": "python",
   "nbconvert_exporter": "python",
   "pygments_lexer": "ipython3",
   "version": "3.8.0"
  }
 },
 "nbformat": 4,
 "nbformat_minor": 5
}
